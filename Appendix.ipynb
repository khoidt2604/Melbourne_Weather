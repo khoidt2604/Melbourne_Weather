{
 "cells": [
  {
   "cell_type": "markdown",
   "metadata": {},
   "source": [
    "# Appendix\n",
    "## Data importation/ formatting"
   ]
  },
  {
   "cell_type": "code",
   "execution_count": 2,
   "metadata": {},
   "outputs": [],
   "source": [
    "import pandas as pd\n",
    "import numpy as np\n",
    "import matplotlib.pyplot as plt\n",
    "import seaborn as sns\n",
    "import time\n",
    "from datetime import timedelta\n",
    "from sklearn.linear_model import LinearRegression\n",
    "from sklearn.linear_model import LogisticRegression\n",
    "from sklearn.ensemble import RandomForestClassifier\n",
    "from sklearn.model_selection import train_test_split\n",
    "from sklearn.metrics import r2_score\n",
    "from sklearn.metrics import classification_report\n",
    "from sklearn.metrics import confusion_matrix\n",
    "from logitplots import plt_confusion_matrix\n",
    "from imblearn.over_sampling import SMOTE\n",
    "import warnings\n",
    "warnings.filterwarnings('ignore')"
   ]
  },
  {
   "cell_type": "code",
   "execution_count": 3,
   "metadata": {},
   "outputs": [],
   "source": [
    "with open(\"Melbourne01.txt\") as f:\n",
    "    txt = f.read()\n",
    "    for i in range(20):\n",
    "        txt = txt.replace(\"\\t\", \" \")\n",
    "        txt = txt.replace(\"  \", \" \")\n",
    "    txt = txt.split(\"\\n\")\n",
    "    for row_idx in range(len(txt)):\n",
    "        if len(txt[row_idx]) > 0 and txt[row_idx][0] == \" \":\n",
    "            txt[row_idx] = txt[row_idx][1:]\n",
    "\n",
    "\n",
    "for row_idx in range(len(txt)):\n",
    "    txt[row_idx] = txt[row_idx].split(\" \")\n",
    "txt_df = pd.DataFrame(data=txt)\n",
    "\n",
    "\n",
    "cols = [\"year\", \"month\", \"day\", \"hour\", \"minute\", \"air_temp\", \"apparent_temp\", \"dew_pt_temp\", \"humidity\", \"wind_direction\", \"wind_speed\", \"wind_gust\", \"mslp\", \"rainfall_9am\", \"blank\"]\n",
    "\n",
    "txt_df.columns = cols\n",
    "txt_df.drop(labels=\"blank\", axis=1, inplace=True) # extra col?\n",
    "txt_df.drop(labels=1019654, inplace=True) # extra row?\n",
    "txt_df.drop_duplicates(inplace=True)\n",
    "txt_df.reset_index(inplace=True)\n",
    "txt_df.drop(labels=\"index\", axis=1, inplace=True)\n",
    "\n",
    "df = txt_df # re-alias txt_df to df for usability\n",
    "del txt_df\n",
    "\n",
    "\n",
    "indices = df[df[\"mslp\"] == \"0.0\"].index\n",
    "for index in indices:\n",
    "    sub = df.iloc[index]\n",
    "    sub[\"wind_direction\"], sub[\"wind_speed\"], sub[\"wind_gust\"], sub[\"mslp\"], sub[\"rainfall_9am\"] = None, None, None, sub[\"wind_direction\"], None\n",
    "\n",
    "df.replace(to_replace=\"-\", value=np.NaN, inplace=True)\n",
    "df.replace(to_replace=\"-9999\", value=np.NaN, inplace=True)\n",
    "df.replace(to_replace=\"-9999.0\", value=np.NaN, inplace=True)\n",
    "\n",
    "# converting all number columns (even integer columns like datetimes, humidity, mslp) data to float\n",
    "float_cols = [\"year\", \"month\", \"day\", \"hour\", \"minute\", \"air_temp\", \"apparent_temp\", \"dew_pt_temp\", \"humidity\", \"wind_speed\", \"wind_gust\", \"mslp\", \"rainfall_9am\"]\n",
    "for col in float_cols:\n",
    "    df[col] = df[col].astype(np.float64)\n",
    "\n",
    "#method for finding cartesian values for speed\n",
    "def wind_dir_to_cartesian(radii, dir_texts):\n",
    "    # optimised for speed, takes vector inputs.\n",
    "    original_idx = radii.index\n",
    "    dir_texts_sub = dir_texts.dropna()\n",
    "    radii_sub = radii.dropna()\n",
    "    idxs = radii_sub.index.intersection(dir_texts_sub.index)\n",
    "    na_idxs = original_idx[np.logical_or(radii.isna(), dir_texts.isna())] # filtering out NA values\n",
    "\n",
    "    dir_texts_sub = dir_texts_sub[idxs]\n",
    "    radii_sub = radii_sub[idxs]\n",
    "    \n",
    "    a = 2*np.pi/16\n",
    "    angle_dict = {\"N\":4*a,\"NNE\":3*a,\"NE\":2*a,\"ENE\":1*a,\"E\":0,\"ESE\":15*a,\"SE\":14*a,\"SSE\":13*a,\"S\":12*a,\"SSW\":11*a,\"SW\":10*a,\"WSW\":9*a,\"W\":8,\"WNW\":7*a,\"NW\":6*a,\"NNW\":5*a, \"CALM\":0, \"NaN\":None}\n",
    "    angles = pd.DataFrame(angle_dict, index=[0])[dir_texts_sub].loc[0].to_numpy()\n",
    "\n",
    "    \n",
    "    X, Y = radii_sub*np.cos(angles), radii_sub*np.sin(angles)\n",
    "    \n",
    "    X_speed = radii.copy()\n",
    "    X_speed.iloc[:] = np.NaN\n",
    "    \n",
    "    Y_speed = radii.copy()\n",
    "    Y_speed.iloc[:] = np.NaN\n",
    "\n",
    "    X_speed[np.logical_not(np.logical_or(radii.isna(), dir_texts.isna()))] = X\n",
    "\n",
    "\n",
    "    Y_speed[np.logical_not(np.logical_or(radii.isna(), dir_texts.isna()))] = Y\n",
    "    X_speed.name = \"X_speed\"\n",
    "    Y_speed.name = \"Y_speed\"\n",
    "    return X_speed, Y_speed\n",
    "\n",
    "# converting angle+speed wind to xspeed+yspeed\n",
    "wind_vecs_rectangular = wind_dir_to_cartesian(df[\"wind_speed\"], df[\"wind_direction\"])\n",
    "df = df.join(wind_vecs_rectangular)\n",
    "del wind_vecs_rectangular\n",
    "\n",
    "# converting datetime columns to a column of datetimes, then dropping\n",
    "timestamp = pd.to_datetime(df[[\"year\", \"month\", \"day\", \"hour\", \"minute\"]])\n",
    "timestamp.name = \"timestamp\"\n",
    "df.index = timestamp\n",
    "df.drop(labels=[\"year\", \"month\", \"day\", \"hour\", \"minute\"], axis=1, inplace=True)\n",
    "del timestamp\n"
   ]
  },
  {
   "cell_type": "code",
   "execution_count": 4,
   "metadata": {},
   "outputs": [],
   "source": [
    "# creating rainfall_diff\n",
    "rainfall_diff = df[\"rainfall_9am\"].diff()\n",
    "rainfall_diff[rainfall_diff < 0] = 0\n",
    "rainfall_diff.name = \"rainfall_diff\"\n",
    "df = df.join(rainfall_diff)\n",
    "df.loc[df.index[0], \"rainfall_diff\"] = 0\n",
    "del rainfall_diff"
   ]
  },
  {
   "cell_type": "code",
   "execution_count": 5,
   "metadata": {},
   "outputs": [],
   "source": [
    "# resampling by day\n",
    "rainfall_df = df['rainfall_9am']\n",
    "rainfall_df.index = rainfall_df.index - timedelta(hours = 9)\n",
    "wind_gust_df = df['wind_gust']\n",
    "df = df.drop(['rainfall_9am','wind_gust'],axis=1).resample('D').mean()\n",
    "df['rainfall_9am'] = rainfall_df.resample('D').max()\n",
    "df['wind_gust'] = wind_gust_df.resample('D').max()\n",
    "df = df.interpolate(method=\"time\")"
   ]
  },
  {
   "cell_type": "code",
   "execution_count": 6,
   "metadata": {},
   "outputs": [],
   "source": [
    "#iterative method for finding/ ravelling data from three days prior to an entry\n",
    "class long_lookup:\n",
    "    def __init__(self, df, window_size):\n",
    "        self.df = df\n",
    "        self.window_size = window_size\n",
    "        self.index = np.arange(len(self.df)-self.window_size+1)\n",
    "    \n",
    "    def __getitem__(self, get_idx):\n",
    "        start = get_idx\n",
    "        end = start + self.window_size\n",
    "        try:\n",
    "            return self.df.loc[start:end]\n",
    "        except TypeError:\n",
    "            return self.df.iloc[start:end]\n",
    "    \n",
    "    def __iter__(self):\n",
    "        class iterator:\n",
    "            def __init__(self, obj):\n",
    "                self.obj = obj\n",
    "                self.iterator = iter(range(len(obj.df)-obj.window_size+1))\n",
    "                return None\n",
    "            def __next__(self):\n",
    "                idx = next(self.iterator)\n",
    "                return self.obj[idx]\n",
    "                \n",
    "        return iterator(self)\n",
    "    \n",
    "    def iter_index(self, idxs):\n",
    "        class iterator:\n",
    "            def __init__(self, obj):\n",
    "                self.obj = obj\n",
    "                self.iterator = iter(idxs)\n",
    "                return None\n",
    "            def __iter__(self):\n",
    "                return self\n",
    "            def __next__(self):\n",
    "                idx = next(self.iterator)\n",
    "                return self.obj[idx]\n",
    "                \n",
    "        return iterator(self)"
   ]
  },
  {
   "cell_type": "markdown",
   "metadata": {},
   "source": [
    "## Exploratory Data Analysis\n",
    "### Correlations"
   ]
  },
  {
   "cell_type": "code",
   "execution_count": 9,
   "metadata": {},
   "outputs": [
    {
     "data": {
      "image/png": "[encoded data removed]",
      "text/plain": [
       "<Figure size 720x576 with 2 Axes>"
      ]
     },
     "metadata": {
      "needs_background": "light"
     },
     "output_type": "display_data"
    }
   ],
   "source": [
    "corrs = df.corr()\n",
    "mask = np.triu(np.ones_like(corrs, dtype=np.bool)) \n",
    "f, ax = plt.subplots(figsize=(10, 8))\n",
    "sns.heatmap(corrs, mask=mask, center=0, annot=True, square=True, linewidths=.5) \n",
    "bottom, top = ax.get_ylim() \n",
    "ax.set_ylim(bottom + 0.5, top - 0.5);"
   ]
  },
  {
   "cell_type": "code",
   "execution_count": 10,
   "metadata": {},
   "outputs": [
    {
     "data": {
      "text/plain": [
       "Text(0.5, 1.0, 'y wind speed vs air temperature')"
      ]
     },
     "execution_count": 10,
     "metadata": {},
     "output_type": "execute_result"
    },
    {
     "data": {
      "image/png": "[encoded data removed]",
      "text/plain": [
       "<Figure size 432x288 with 1 Axes>"
      ]
     },
     "metadata": {
      "needs_background": "light"
     },
     "output_type": "display_data"
    }
   ],
   "source": [
    "#plot for temperature \n",
    "X = df.index\n",
    "Y = df.resample(\"M\").mean()\n",
    "plt.scatter(Y[\"Y_speed\"], Y[\"air_temp\"])\n",
    "plt.title(\"y wind speed vs air temperature\")"
   ]
  },
  {
   "cell_type": "code",
   "execution_count": 11,
   "metadata": {},
   "outputs": [
    {
     "data": {
      "text/plain": [
       "Text(0.5, 1.0, 'monthly average temperature')"
      ]
     },
     "execution_count": 11,
     "metadata": {},
     "output_type": "execute_result"
    },
    {
     "data": {
      "image/png": "[encoded data removed]",
      "text/plain": [
       "<Figure size 432x288 with 1 Axes>"
      ]
     },
     "metadata": {
      "needs_background": "light"
     },
     "output_type": "display_data"
    }
   ],
   "source": [
    "#plot for temperature \n",
    "plt.plot(Y.index, Y[\"air_temp\"])\n",
    "plt.title(\"monthly average temperature\")"
   ]
  },
  {
   "cell_type": "code",
   "execution_count": 12,
   "metadata": {},
   "outputs": [
    {
     "data": {
      "text/plain": [
       "Text(0.5, 1.0, 'monthly average temperature')"
      ]
     },
     "execution_count": 12,
     "metadata": {},
     "output_type": "execute_result"
    },
    {
     "data": {
      "image/png": "[encoded data removed]",
      "text/plain": [
       "<Figure size 432x288 with 1 Axes>"
      ]
     },
     "metadata": {
      "needs_background": "light"
     },
     "output_type": "display_data"
    }
   ],
   "source": [
    "#plot for rainfall\n",
    "plt.plot(Y.index, Y[\"rainfall_9am\"])\n",
    "plt.title(\"monthly average temperature\")"
   ]
  },
  {
   "cell_type": "markdown",
   "metadata": {},
   "source": [
    "## Modelling"
   ]
  },
  {
   "cell_type": "code",
   "execution_count": 13,
   "metadata": {},
   "outputs": [],
   "source": [
    "scores_df = pd.DataFrame()"
   ]
  },
  {
   "cell_type": "markdown",
   "metadata": {},
   "source": [
    "### Binary"
   ]
  },
  {
   "cell_type": "code",
   "execution_count": 14,
   "metadata": {},
   "outputs": [],
   "source": [
    "window_size = 3\n",
    "long_day_df = long_lookup(df, window_size+1)\n",
    "train_idxs, test_idxs = train_test_split(long_day_df.index, train_size=0.8)\n",
    "\n",
    "target_feature = \"rainfall_9am\"\n",
    "\n",
    "X_train = np.array([long_day_df[idx][:window_size].values.ravel() for idx in train_idxs])\n",
    "y_train = np.array([long_day_df[idx][target_feature].iloc[window_size] > 0.2 for idx in train_idxs])\n",
    "\n",
    "X_test = np.array([long_day_df[idx][:window_size].values.ravel() for idx in test_idxs])\n",
    "y_test = np.array([long_day_df[idx][target_feature].iloc[window_size]  > 0.2 for idx in test_idxs])\n",
    "\n",
    "for x in [X_train, y_train, X_test, y_test]:\n",
    "    x = (x - x.mean())/x.std()"
   ]
  },
  {
   "cell_type": "code",
   "execution_count": 15,
   "metadata": {},
   "outputs": [
    {
     "name": "stdout",
     "output_type": "stream",
     "text": [
      "0.16767020739250393\n"
     ]
    }
   ],
   "source": [
    "linreg = LinearRegression()\n",
    "linreg = linreg.fit(X_train, y_train)\n",
    "linreg_bin_score = linreg.score(X_test, y_test)\n",
    "print(linreg_bin_score)"
   ]
  },
  {
   "cell_type": "code",
   "execution_count": 16,
   "metadata": {},
   "outputs": [
    {
     "name": "stdout",
     "output_type": "stream",
     "text": [
      "0.7184822521419829\n"
     ]
    }
   ],
   "source": [
    "logreg = LogisticRegression()\n",
    "logreg = logreg.fit(X_train, y_train)\n",
    "logreg_bin_score = logreg.score(X_test, y_test)\n",
    "print(logreg_bin_score)"
   ]
  },
  {
   "cell_type": "code",
   "execution_count": 17,
   "metadata": {
    "scrolled": true
   },
   "outputs": [
    {
     "name": "stdout",
     "output_type": "stream",
     "text": [
      "0.7405140758873929\n"
     ]
    }
   ],
   "source": [
    "nests = np.arange(150, 200, 5)\n",
    "results = np.zeros((len(nests)))\n",
    "for i in range(len(nests)):\n",
    "    random_forest = RandomForestClassifier(n_estimators=nests[i]).fit(X_train, y_train)\n",
    "    results[i] = random_forest.score(X_test, y_test)                   \n",
    "\n",
    "results_df = pd.DataFrame(results, columns = ['accuracy score'],index=nests)\n",
    "randf_bin_score = results_df.loc[results_df['accuracy score']==results_df['accuracy score'].max()].reset_index().loc[0]['accuracy score']\n",
    "print(randf_bin_score)"
   ]
  },
  {
   "cell_type": "markdown",
   "metadata": {},
   "source": [
    "### Multi-category "
   ]
  },
  {
   "cell_type": "code",
   "execution_count": 18,
   "metadata": {},
   "outputs": [],
   "source": [
    "rain_bins = pd.IntervalIndex.from_tuples([(-0.1, 0.2),(0.2,5),(5, 10),(10,25),(25,60)])\n",
    "\n",
    "binned_df = df.copy()\n",
    "binned_df['bins'] = pd.cut(df['rainfall_9am'], rain_bins)\n",
    "binned_df['bins'] = binned_df['bins'].astype('str')\n",
    "binned_df['bins'] = binned_df['bins'].replace({'(-0.1, 0.2]':0,'(0.2, 5.0]':1,'(5.0, 10.0]':2,'(10.0, 25.0]':3,'(25.0, 60.0]':4})\n",
    "\n",
    "window_size = 3\n",
    "long_day_df = long_lookup(binned_df, window_size+1)\n",
    "target_feature = \"bins\"\n",
    "\n",
    "X_train = np.array([long_day_df[idx][:window_size].values.ravel() for idx in train_idxs])\n",
    "y_train = np.array([long_day_df[idx][target_feature].iloc[window_size] for idx in train_idxs])\n",
    "\n",
    "X_test = np.array([long_day_df[idx][:window_size].values.ravel() for idx in test_idxs])\n",
    "y_test = np.array([long_day_df[idx][target_feature].iloc[window_size] for idx in test_idxs])\n",
    "\n",
    "for x in [X_train, y_train, X_test, y_test]:\n",
    "    x = (x - x.mean())/x.std()"
   ]
  },
  {
   "cell_type": "code",
   "execution_count": 19,
   "metadata": {},
   "outputs": [
    {
     "name": "stdout",
     "output_type": "stream",
     "text": [
      "0.12923528079279012\n"
     ]
    }
   ],
   "source": [
    "linreg = LinearRegression()\n",
    "linreg = linreg.fit(X_train, y_train)\n",
    "linreg_m_score = linreg.score(X_test, y_test)\n",
    "print(linreg_m_score)"
   ]
  },
  {
   "cell_type": "code",
   "execution_count": 20,
   "metadata": {},
   "outputs": [
    {
     "name": "stdout",
     "output_type": "stream",
     "text": [
      "0.6915544675642595\n"
     ]
    }
   ],
   "source": [
    "logreg = LogisticRegression()\n",
    "logreg = logreg.fit(X_train, y_train)\n",
    "logreg_m_score = logreg.score(X_test, y_test)\n",
    "print(logreg_m_score)"
   ]
  },
  {
   "cell_type": "code",
   "execution_count": 21,
   "metadata": {
    "scrolled": true
   },
   "outputs": [
    {
     "name": "stdout",
     "output_type": "stream",
     "text": [
      "0.7074663402692778\n"
     ]
    }
   ],
   "source": [
    "nests = np.arange(150, 200, 5)\n",
    "results = np.zeros((len(nests)))\n",
    "for i in range(len(nests)):\n",
    "    random_forest = RandomForestClassifier(n_estimators=nests[i]).fit(X_train, y_train)\n",
    "    results[i] = random_forest.score(X_test, y_test)                   \n",
    "\n",
    "results_df = pd.DataFrame(results, columns = ['accuracy score'],index=nests)\n",
    "randf_m_score = results_df.loc[results_df['accuracy score']==results_df['accuracy score'].max()].reset_index().loc[0]['accuracy score']\n",
    "print(randf_m_score)"
   ]
  },
  {
   "cell_type": "markdown",
   "metadata": {},
   "source": [
    "### SMOTE\n",
    "#### Binary"
   ]
  },
  {
   "cell_type": "code",
   "execution_count": 22,
   "metadata": {},
   "outputs": [],
   "source": [
    "window_size = 3\n",
    "target_feature = \"rainfall_9am\"\n",
    "\n",
    "X = np.array([long_day_df[idx][:window_size].values.ravel() for idx in long_day_df.index])\n",
    "y = np.array([long_day_df[idx][target_feature].iloc[window_size] > 0.2 for idx in long_day_df.index])\n",
    "\n",
    "sm = SMOTE(random_state=2)\n",
    "sm_df= sm.fit_resample(pd.DataFrame(X), pd.DataFrame(y))\n",
    "\n",
    "X_train,X_test,y_train,y_test=train_test_split(sm_df[0],sm_df[1],train_size=0.8,random_state=0)\n",
    "for x in [X_train, y_train, X_test, y_test]:\n",
    "    x = (x - x.mean())/x.std()"
   ]
  },
  {
   "cell_type": "code",
   "execution_count": 23,
   "metadata": {},
   "outputs": [
    {
     "name": "stdout",
     "output_type": "stream",
     "text": [
      "0.15375282802767487\n"
     ]
    }
   ],
   "source": [
    "linreg = LinearRegression()\n",
    "linreg = linreg.fit(X_train, y_train)\n",
    "linreg_bin_smote_score = linreg.score(X_test, y_test)\n",
    "print(linreg_bin_smote_score)"
   ]
  },
  {
   "cell_type": "code",
   "execution_count": 24,
   "metadata": {},
   "outputs": [
    {
     "name": "stdout",
     "output_type": "stream",
     "text": [
      "0.6915544675642595\n"
     ]
    }
   ],
   "source": [
    "logreg = LogisticRegression()\n",
    "logreg = logreg.fit(X_train, y_train)\n",
    "logreg_bin_smote_score = logreg.score(X_test, y_test)\n",
    "print(logreg_m_score)"
   ]
  },
  {
   "cell_type": "code",
   "execution_count": 25,
   "metadata": {
    "scrolled": true
   },
   "outputs": [
    {
     "name": "stdout",
     "output_type": "stream",
     "text": [
      "0.7840805123513266\n"
     ]
    }
   ],
   "source": [
    "nests = np.arange(150, 200, 5)\n",
    "results = np.zeros((len(nests)))\n",
    "for i in range(len(nests)):\n",
    "    random_forest = RandomForestClassifier(n_estimators=nests[i]).fit(X_train, y_train)\n",
    "    results[i] = random_forest.score(X_test, y_test)                   \n",
    "\n",
    "results_df = pd.DataFrame(results, columns = ['accuracy score'],index=nests)\n",
    "randf_bin_smote_score = results_df.loc[results_df['accuracy score']==results_df['accuracy score'].max()].reset_index().loc[0]['accuracy score']\n",
    "print(randf_bin_smote_score)"
   ]
  },
  {
   "cell_type": "markdown",
   "metadata": {},
   "source": [
    "#### Multi category"
   ]
  },
  {
   "cell_type": "code",
   "execution_count": 26,
   "metadata": {
    "scrolled": true
   },
   "outputs": [],
   "source": [
    "window_size = 3\n",
    "target_feature = \"bins\"\n",
    "\n",
    "long_day_df = long_lookup(binned_df, window_size+1)\n",
    "\n",
    "X = [long_day_df[idx][:window_size].values.ravel() for idx in long_day_df.index]\n",
    "y = [long_day_df[idx][target_feature].iloc[window_size] for idx in long_day_df.index]\n",
    "\n",
    "sm = SMOTE(random_state=2)\n",
    "sm_df = sm.fit_resample(pd.DataFrame(X), pd.DataFrame(y))\n",
    "\n",
    "X_train,X_test,y_train,y_test=train_test_split(sm_df[0],sm_df[1],train_size=0.8,random_state=0)\n",
    "for x in [X_train, y_train, X_test, y_test]:\n",
    "    x = (x - x.mean())/x.std()"
   ]
  },
  {
   "cell_type": "code",
   "execution_count": 27,
   "metadata": {},
   "outputs": [
    {
     "name": "stdout",
     "output_type": "stream",
     "text": [
      "0.25334365713656926\n"
     ]
    }
   ],
   "source": [
    "linreg = LinearRegression()\n",
    "linreg = linreg.fit(X_train, y_train)\n",
    "linreg_m_smote_score = linreg.score(X_test, y_test)\n",
    "print(linreg_m_smote_score)"
   ]
  },
  {
   "cell_type": "code",
   "execution_count": 28,
   "metadata": {},
   "outputs": [
    {
     "name": "stdout",
     "output_type": "stream",
     "text": [
      "0.35444891980959353\n"
     ]
    }
   ],
   "source": [
    "logreg = LogisticRegression()\n",
    "logreg = logreg.fit(X_train, y_train)\n",
    "logreg_m_smote_score = logreg.score(X_test, y_test)\n",
    "print(logreg_m_smote_score)"
   ]
  },
  {
   "cell_type": "code",
   "execution_count": 29,
   "metadata": {},
   "outputs": [],
   "source": [
    "nests = np.arange(150, 200, 5)\n",
    "results = np.zeros((len(nests)))\n",
    "for i in range(len(nests)):\n",
    "    random_forest = RandomForestClassifier(n_estimators=nests[i]).fit(X_train, y_train)\n",
    "    results[i] = random_forest.score(X_test, y_test)                   \n",
    "\n",
    "results_df = pd.DataFrame(results, columns = ['accuracy score'],index=nests)\n",
    "randf_m_smote_score = results_df.loc[results_df['accuracy score']==results_df['accuracy score'].max()].reset_index().loc[0]['accuracy score']\n"
   ]
  },
  {
   "cell_type": "code",
   "execution_count": 30,
   "metadata": {},
   "outputs": [
    {
     "data": {
      "text/html": [
       "<div>\n",
       "<style scoped>\n",
       "    .dataframe tbody tr th:only-of-type {\n",
       "        vertical-align: middle;\n",
       "    }\n",
       "\n",
       "    .dataframe tbody tr th {\n",
       "        vertical-align: top;\n",
       "    }\n",
       "\n",
       "    .dataframe thead th {\n",
       "        text-align: right;\n",
       "    }\n",
       "</style>\n",
       "<table border=\"1\" class=\"dataframe\">\n",
       "  <thead>\n",
       "    <tr style=\"text-align: right;\">\n",
       "      <th></th>\n",
       "      <th>problem type</th>\n",
       "      <th>binary</th>\n",
       "      <th>multi-category</th>\n",
       "    </tr>\n",
       "    <tr>\n",
       "      <th>names</th>\n",
       "      <th>smote/no smote</th>\n",
       "      <th></th>\n",
       "      <th></th>\n",
       "    </tr>\n",
       "  </thead>\n",
       "  <tbody>\n",
       "    <tr>\n",
       "      <th rowspan=\"2\" valign=\"top\">linear regression</th>\n",
       "      <th>SMOTE</th>\n",
       "      <td>0.153753</td>\n",
       "      <td>0.253344</td>\n",
       "    </tr>\n",
       "    <tr>\n",
       "      <th>no SMOTE</th>\n",
       "      <td>0.167670</td>\n",
       "      <td>0.129235</td>\n",
       "    </tr>\n",
       "    <tr>\n",
       "      <th rowspan=\"2\" valign=\"top\">logistic regression</th>\n",
       "      <th>SMOTE</th>\n",
       "      <td>0.663312</td>\n",
       "      <td>0.354449</td>\n",
       "    </tr>\n",
       "    <tr>\n",
       "      <th>no SMOTE</th>\n",
       "      <td>0.718482</td>\n",
       "      <td>0.691554</td>\n",
       "    </tr>\n",
       "    <tr>\n",
       "      <th rowspan=\"2\" valign=\"top\">random forest</th>\n",
       "      <th>SMOTE</th>\n",
       "      <td>0.784081</td>\n",
       "      <td>0.922007</td>\n",
       "    </tr>\n",
       "    <tr>\n",
       "      <th>no SMOTE</th>\n",
       "      <td>0.740514</td>\n",
       "      <td>0.707466</td>\n",
       "    </tr>\n",
       "  </tbody>\n",
       "</table>\n",
       "</div>"
      ],
      "text/plain": [
       "problem type                          binary  multi-category\n",
       "names               smote/no smote                          \n",
       "linear regression   SMOTE           0.153753        0.253344\n",
       "                    no SMOTE        0.167670        0.129235\n",
       "logistic regression SMOTE           0.663312        0.354449\n",
       "                    no SMOTE        0.718482        0.691554\n",
       "random forest       SMOTE           0.784081        0.922007\n",
       "                    no SMOTE        0.740514        0.707466"
      ]
     },
     "execution_count": 30,
     "metadata": {},
     "output_type": "execute_result"
    }
   ],
   "source": [
    "scores = pd.DataFrame({'names':['linear regression','linear regression','logistic regression','logistic regression','random forest','random forest','linear regression','linear regression','logistic regression','logistic regression','random forest','random forest'],\n",
    "                      'problem type':['binary','multi-category','binary','multi-category','binary','multi-category','binary','multi-category','binary','multi-category','binary','multi-category'], \n",
    "                      'smote/no smote':['no SMOTE','no SMOTE','no SMOTE','no SMOTE','no SMOTE','no SMOTE','SMOTE','SMOTE','SMOTE','SMOTE','SMOTE','SMOTE'],\n",
    "                      'score':[linreg_bin_score,linreg_m_score, logreg_bin_score,logreg_m_score, randf_bin_score,randf_m_score,linreg_bin_smote_score,linreg_m_smote_score, logreg_bin_smote_score,logreg_m_smote_score, randf_bin_smote_score, randf_m_smote_score]})\n",
    "score_table = pd.pivot_table(scores, values='score', index=['names','smote/no smote'],\n",
    "                    columns=['problem type'], aggfunc=np.sum)\n",
    "score_table"
   ]
  }
 ],
 "metadata": {
  "kernelspec": {
   "display_name": "Python 3",
   "language": "python",
   "name": "python3"
  },
  "language_info": {
   "codemirror_mode": {
    "name": "ipython",
    "version": 3
   },
   "file_extension": ".py",
   "mimetype": "text/x-python",
   "name": "python",
   "nbconvert_exporter": "python",
   "pygments_lexer": "ipython3",
   "version": "3.8.5"
  }
 },
 "nbformat": 4,
 "nbformat_minor": 4
}
